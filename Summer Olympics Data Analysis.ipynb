import pandas as pd
import numpy as np
import matplotlib.pyplot as plt

df = pd.read_csv("/content/summer.csv")

df.head()

#1. In how many cities Summer Olympics is held so far?
c = df.groupby(["City"]).size().reset_index(name='No. of people')
print(c)

for col in df.columns:
    if col[:2]=='01':
        df.rename(columns={col:'Gold'+col[4:]}, inplace=True)
    if col[:2]=='02':
        df.rename(columns={col:'Silver'+col[4:]}, inplace=True)
    if col[:2]=='03':
        df.rename(columns={col:'Bronze'+col[4:]}, inplace=True)
    if col[:1]=='№':
        df.rename(columns={col:'#'+col[1:]}, inplace=True)
        
#2. Which sport is having most number of Gold Medals so far? (Top 5)
goldMedals.region.value_counts().reset_index(name='Medal').head()
totalGoldMedals = goldMedals.region.value_counts().reset_index(name='Medal').head(5)
g = sns.catplot(x="index", y="Medal", data=totalGoldMedals,
                height=6, kind="bar", palette="muted")
g.despine(left=True)
g.set_xlabels("Top 5 countries")
g.set_ylabels("Number of Medals")
plt.title('Medals per Country')

#3. Which sport is having most number of medals so far? (Top 5)
data = []

for Sport in df['Sport'].unique():
    data.append([Sport , len(df[df['Sport']  == Sport])])

pd.DataFrame(data,columns = ['Sport','freq']).sort_values(by='freq', ascending=False).head().plot(x = 'Sport', y = 'freq', kind = 'bar', figsize = (5,5))

#4. Which player has won most number of medals? (Top 5)
data = []

for Athlete in df['Athlete'].unique():
    data.append([Athlete , len(df[df['Athlete']  == Athlete])])

pd.DataFrame(data,columns = ['Athlete','freq']).sort_values(by='freq', ascending=False).head().plot(x = 'Athlete', y = 'freq', kind = 'bar', figsize = (5,5))

#5. Which player has won most number Gold Medals of medals? (Top )
data = []

for Athlete in df['Athlete'].unique():
    data.append([Athlete , len(df[df['Athlete']  == Athlete])])

pd.DataFrame(data,columns = ['Athlete','freq']).sort_values(by='freq', ascending=False).head().plot(x = 'Athlete', y = 'freq', kind = 'bar', figsize = (5,5))
df.groupby('Athlete').mean()['GoldMedal'].sort_values(ascending = False).plot.bar()

#6. In which year India won first Gold Medal in Summer Olympics?
#NA in csv file

#7. Which event is most popular in terms on number of players? (Top 5)
c = df.groupby(["Sport"]).size().reset_index(name='No. of people')
print(c.head())

#8. Which sport is having most female Gold Medalists? (Top 5)
c = df.groupby(["Sport"]).size().reset_index(name='No. of females')
print(c.head())
